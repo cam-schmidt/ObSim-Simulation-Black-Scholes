{
 "cells": [
  {
   "cell_type": "code",
   "execution_count": 162,
   "id": "78055543",
   "metadata": {},
   "outputs": [],
   "source": [
    "import numpy as np\n",
    "import pandas as pd \n",
    "import matplotlib.pyplot as plt\n",
    "import random\n",
    "from scipy.stats import norm"
   ]
  },
  {
   "cell_type": "markdown",
   "id": "46c541d2",
   "metadata": {},
   "source": [
    "For the purposes of replicating the experiment in *Implied Value-at-risk and model-free simulation*, the following sample parameters are used:"
   ]
  },
  {
   "cell_type": "code",
   "execution_count": 176,
   "id": "553fcfee",
   "metadata": {},
   "outputs": [],
   "source": [
    "# Input parameters \n",
    "r = 0        # risk-free interest rate\n",
    "S0 = 100     # Stock price \n",
    "T = 0.5      # Time to maturity (years)\n",
    "sigma = 0.2  # Volatility\n",
    "n = 10000   # Simulations"
   ]
  },
  {
   "cell_type": "markdown",
   "id": "651acc77",
   "metadata": {},
   "source": [
    "The class 'BlackScholes' is used to calculate the theoretical prices of European call and put options using the Black-Scholes option pricing model. The class takes-in the parameter 'K', which is the strike price, and uses the global input parameters defined above to perform calculations.\n",
    "\n",
    "The 'call' method of the BlackScholes class calculates the theoretical price of a European call option using the Black-Scholes formula, and the 'put' method calculates the theoretical price of a European put option using the Black-Scholes formula."
   ]
  },
  {
   "cell_type": "code",
   "execution_count": 177,
   "id": "86a8623a",
   "metadata": {},
   "outputs": [],
   "source": [
    "class BlackScholes:    \n",
    "    def __init__(self, K): \n",
    "        self.K = K\n",
    "        \n",
    "        self.d1 = (np.log(S0/self.K) + (r + ((sigma**2)/2))*T) / (sigma * np.sqrt(T))\n",
    "        self.d2 = self.d1 - sigma*np.sqrt(T)\n",
    "        \n",
    "    def call(self):\n",
    "        bs_call_price = (S0 * norm.cdf(self.d1, 0, 1)) - (self.K * np.exp(-r*T) * norm.cdf(self.d2, 0, 1))\n",
    "        \n",
    "        return round(bs_call_price, 4)\n",
    "        \n",
    "    def put(self):\n",
    "        bs_put_price = self.K * np.exp(r*T) * norm.cdf(-self.d2, 0 , 1) - S0 * norm.cdf(-self.d1, 0, 1)\n",
    "        \n",
    "        return round(bs_put_price, 4)"
   ]
  },
  {
   "cell_type": "markdown",
   "id": "87cb1aec",
   "metadata": {},
   "source": [
    "The class 'MonteCarlo' is used to run a Monte Carlo simulation to generate synthetic stock data. The class takes in the parameter n, which is the number of desired simulations.\n",
    "\n",
    "In the 'generate_dictionary' method, an interval of 150 strike prices is generated. Then, the Black-Scholes call and put prices are calculated for each respective strike price. These call and put prices are then combined into a pair, serving as the key to their corresponding strike price - forming a dictionary. \n",
    "\n",
    "The 'loss_minimizer' method returns the minimizer of the piecewise-linear loss function outlined in equation 1 of the paper. The method takes in parameter 'a', which is the confidence-level used in the calculation.\n",
    "\n",
    "The 'run_simulations' method generates a standard uniformly distributed random variable, and passes this variable as parameter 'a' into the 'loss_minimizer' method. Then the method runs 'n' simulations of the 'loss_minimizer' method, and returns a list of the optimal strike price for each simulation.\n",
    "\n",
    "The result is stored in the variable 'simulated_stock_data': a list of n simulated stock prices."
   ]
  },
  {
   "cell_type": "code",
   "execution_count": 178,
   "id": "8139a557",
   "metadata": {},
   "outputs": [],
   "source": [
    "class MonteCarlo:\n",
    "    def __init__(self, n):\n",
    "        self.n = n\n",
    "        self.bs_dictionary = self.generate_dictionary()\n",
    "        \n",
    "    def generate_dictionary(self):\n",
    "        # Creating a list of 150 strike prices, evenly spaced, in the interval (0.5 * S0, 1.5 * S0)\n",
    "        strike_list = np.linspace(0.5 * S0, 1.5 * S0, 150)\n",
    "        \n",
    "        # Creating a list of black scholes call and put prices for each respective strike price\n",
    "        bs_call_prices = [BlackScholes(K).call() for K in strike_list]\n",
    "        bs_put_prices = [BlackScholes(K).put() for K in strike_list]\n",
    "\n",
    "        # Combining the black scholes call and put prices with the strike prices into a dictionary\n",
    "        return {(c,p): k for c, p, k in zip(bs_call_prices, bs_put_prices, strike_list)}\n",
    "    \n",
    "    def loss_minimizer(self, a):\n",
    "        \n",
    "        min_pair = None\n",
    "        min_val = float('inf')\n",
    "        \n",
    "        for pair in self.bs_dictionary.keys():\n",
    "            bs_call_price, bs_put_price = pair\n",
    "            loss = (a * np.exp(r*T) * bs_call_price) + ((1 - a) * np.exp(r*T) * bs_put_price)\n",
    "            \n",
    "            if loss < min_val:\n",
    "                min_val = loss\n",
    "                min_pair = pair\n",
    "        \n",
    "        return round(self.bs_dictionary[min_pair], 2)\n",
    "    \n",
    "    def run_simulations(self):\n",
    "        return [self.loss_minimizer(random.uniform(0, 1)) for m in range(self.n)]\n",
    "\n",
    "simulated_stock_data = MonteCarlo(n).run_simulations()"
   ]
  },
  {
   "cell_type": "markdown",
   "id": "db292a9c",
   "metadata": {},
   "source": [
    "The 'Obsim' class in the parameter 'K', the strike price, and returns the theoretical option price using the options-based simulation method defined in the paper. "
   ]
  },
  {
   "cell_type": "code",
   "execution_count": 182,
   "id": "3c991de8",
   "metadata": {},
   "outputs": [],
   "source": [
    "# Obsim class\n",
    "class ObSim:\n",
    "    def __init__(self, K):\n",
    "        self.K = K\n",
    "        \n",
    "    def call(self):\n",
    "        payoff_list = [max(ST - self.K, 0) for ST in simulated_stock_data]\n",
    "        obsim_price = np.exp(-r*T) * (sum(payoff_list) / len(simulated_stock_data))\n",
    "        \n",
    "        return round(obsim_price, 4)\n",
    "        \n",
    "    def put(self):\n",
    "        payoff_list = [max(self.K - ST, 0) for ST in simulated_stock_data]\n",
    "        obsim_price = np.exp(-r*T) * (sum(payoff_list) / len(simulated_stock_data))\n",
    "        \n",
    "        return round(obsim_price, 4)"
   ]
  },
  {
   "cell_type": "markdown",
   "id": "c3fab13b",
   "metadata": {},
   "source": [
    "The ObSim method is validated by comparing Black-Scholes call option prices with ObSim call option prices, in the interval [94, 106]."
   ]
  },
  {
   "cell_type": "code",
   "execution_count": 183,
   "id": "7c8b24fe",
   "metadata": {},
   "outputs": [],
   "source": [
    "sample_strikes = [94, 96, 98, 100, 102, 104, 106]\n",
    "\n",
    "# Creating Black Scholes call prices for the sample strikes [94, 106]\n",
    "bs_sample_values = [BlackScholes(K).call() for K in sample_strikes]\n",
    "\n",
    "# Creating Obsim call prices for the sample strikes [94, 106]\n",
    "obsim_sample_values = [ObSim(K).call() for K in sample_strikes]"
   ]
  },
  {
   "cell_type": "code",
   "execution_count": 181,
   "id": "db5fd4a2",
   "metadata": {},
   "outputs": [
    {
     "data": {
      "text/html": [
       "<div>\n",
       "<style scoped>\n",
       "    .dataframe tbody tr th:only-of-type {\n",
       "        vertical-align: middle;\n",
       "    }\n",
       "\n",
       "    .dataframe tbody tr th {\n",
       "        vertical-align: top;\n",
       "    }\n",
       "\n",
       "    .dataframe thead th {\n",
       "        text-align: right;\n",
       "    }\n",
       "</style>\n",
       "<table border=\"1\" class=\"dataframe\">\n",
       "  <thead>\n",
       "    <tr style=\"text-align: right;\">\n",
       "      <th></th>\n",
       "      <th>Strike, K</th>\n",
       "      <th>BS Formula Price</th>\n",
       "      <th>ObSim Price</th>\n",
       "    </tr>\n",
       "  </thead>\n",
       "  <tbody>\n",
       "    <tr>\n",
       "      <th>0</th>\n",
       "      <td>94</td>\n",
       "      <td>8.9822</td>\n",
       "      <td>9.0250</td>\n",
       "    </tr>\n",
       "    <tr>\n",
       "      <th>1</th>\n",
       "      <td>96</td>\n",
       "      <td>7.7526</td>\n",
       "      <td>7.7965</td>\n",
       "    </tr>\n",
       "    <tr>\n",
       "      <th>2</th>\n",
       "      <td>98</td>\n",
       "      <td>6.6376</td>\n",
       "      <td>6.6827</td>\n",
       "    </tr>\n",
       "    <tr>\n",
       "      <th>3</th>\n",
       "      <td>100</td>\n",
       "      <td>5.6372</td>\n",
       "      <td>5.6861</td>\n",
       "    </tr>\n",
       "    <tr>\n",
       "      <th>4</th>\n",
       "      <td>102</td>\n",
       "      <td>4.7492</td>\n",
       "      <td>4.7981</td>\n",
       "    </tr>\n",
       "    <tr>\n",
       "      <th>5</th>\n",
       "      <td>104</td>\n",
       "      <td>3.9693</td>\n",
       "      <td>4.0179</td>\n",
       "    </tr>\n",
       "    <tr>\n",
       "      <th>6</th>\n",
       "      <td>106</td>\n",
       "      <td>3.2913</td>\n",
       "      <td>3.3377</td>\n",
       "    </tr>\n",
       "  </tbody>\n",
       "</table>\n",
       "</div>"
      ],
      "text/plain": [
       "   Strike, K  BS Formula Price  ObSim Price\n",
       "0         94            8.9822       9.0250\n",
       "1         96            7.7526       7.7965\n",
       "2         98            6.6376       6.6827\n",
       "3        100            5.6372       5.6861\n",
       "4        102            4.7492       4.7981\n",
       "5        104            3.9693       4.0179\n",
       "6        106            3.2913       3.3377"
      ]
     },
     "execution_count": 181,
     "metadata": {},
     "output_type": "execute_result"
    }
   ],
   "source": [
    "df_1 = pd.DataFrame(sample_strikes, columns=['Strike, K'])\n",
    "df_1['BS Formula Price'] = bs_sample_values\n",
    "df_1['ObSim Price'] = obsim_sample_values\n",
    "\n",
    "df_1"
   ]
  },
  {
   "cell_type": "code",
   "execution_count": 66,
   "id": "4578796f",
   "metadata": {},
   "outputs": [],
   "source": []
  }
 ],
 "metadata": {
  "kernelspec": {
   "display_name": "Python 3 (ipykernel)",
   "language": "python",
   "name": "python3"
  },
  "language_info": {
   "codemirror_mode": {
    "name": "ipython",
    "version": 3
   },
   "file_extension": ".py",
   "mimetype": "text/x-python",
   "name": "python",
   "nbconvert_exporter": "python",
   "pygments_lexer": "ipython3",
   "version": "3.9.13"
  }
 },
 "nbformat": 4,
 "nbformat_minor": 5
}
